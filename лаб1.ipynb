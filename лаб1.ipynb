{
  "nbformat": 4,
  "nbformat_minor": 0,
  "metadata": {
    "colab": {
      "name": "лаб1.ipynb",
      "provenance": [],
      "authorship_tag": "ABX9TyMnt5+pjU/B3rWAixdWk+qJ",
      "include_colab_link": true
    },
    "kernelspec": {
      "name": "python3",
      "display_name": "Python 3"
    }
  },
  "cells": [
    {
      "cell_type": "markdown",
      "metadata": {
        "id": "view-in-github",
        "colab_type": "text"
      },
      "source": [
        "<a href=\"https://colab.research.google.com/github/MarinaSafina/PROGRAMMING/blob/main/%D0%BB%D0%B0%D0%B11.ipynb\" target=\"_parent\"><img src=\"https://colab.research.google.com/assets/colab-badge.svg\" alt=\"Open In Colab\"/></a>"
      ]
    },
    {
      "cell_type": "code",
      "metadata": {
        "colab": {
          "base_uri": "https://localhost:8080/"
        },
        "id": "ZUdMu26R_wc3",
        "outputId": "cda5f8a1-2f77-4b4d-aa2e-7eb7e3f2aedd"
      },
      "source": [
        "nonzero=[]\r\n",
        "Z=[1, 0, 2, 0, 3, 0, 4]\r\n",
        "for i in Z:\r\n",
        "  if i==0:\r\n",
        "   pass\r\n",
        "  else:\r\n",
        "    nonzero.append(Z.index(i))\r\n",
        "print(nonzero)"
      ],
      "execution_count": 17,
      "outputs": [
        {
          "output_type": "stream",
          "text": [
            "[0, 2, 4, 6]\n"
          ],
          "name": "stdout"
        }
      ]
    },
    {
      "cell_type": "code",
      "metadata": {
        "colab": {
          "base_uri": "https://localhost:8080/"
        },
        "id": "u3UNi4db9wFF",
        "outputId": "1159fd64-d61b-4d9a-859f-86e00607a2f7"
      },
      "source": [
        "import numpy as np\r\n",
        "Z=np.array([1, 0, 2, 0, 3, 0, 4])\r\n",
        "np.nonzero(Z)\r\n",
        "Z=np.array([1, 2, 0, 0, 4, 0])\r\n",
        "np.nonzero(Z)\r\n"
      ],
      "execution_count": 22,
      "outputs": [
        {
          "output_type": "execute_result",
          "data": {
            "text/plain": [
              "(array([0, 1, 4]),)"
            ]
          },
          "metadata": {
            "tags": []
          },
          "execution_count": 22
        }
      ]
    },
    {
      "cell_type": "code",
      "metadata": {
        "colab": {
          "base_uri": "https://localhost:8080/"
        },
        "id": "iy0hwnzl_ocf",
        "outputId": "cb1c8dfd-5b5f-4356-fcca-211548343f76"
      },
      "source": [
        "Z=np.array([1, 2, 0, 0, 4, 0])\r\n",
        "np.nonzero(Z)"
      ],
      "execution_count": 18,
      "outputs": [
        {
          "output_type": "execute_result",
          "data": {
            "text/plain": [
              "(array([0, 1, 4]),)"
            ]
          },
          "metadata": {
            "tags": []
          },
          "execution_count": 18
        }
      ]
    },
    {
      "cell_type": "code",
      "metadata": {
        "id": "62KWy4vSHGMR"
      },
      "source": [
        "import timeit\r\n",
        "import numpy as np\r\n",
        "\r\n",
        "\r\n",
        "def python(size):\r\n",
        "    nonzero = []\r\n",
        "    Z = size\r\n",
        "    for i in Z:\r\n",
        "        if i == 0:\r\n",
        "                pass\r\n",
        "        else:\r\n",
        "                nonzero.append(Z.index(i))\r\n",
        "\r\n",
        "\r\n",
        "def nonpy(size):\r\n",
        "        Z = np.array(size)\r\n",
        "        np.nonzero(Z)\r\n",
        "\r\n",
        "if __name__ == '__main__':\r\n",
        "        start_time = timeit.default_timer()\r\n",
        "        python([1, 2, 0, 0, 4, 0])\r\n",
        "        range_time_1 = timeit.default_timer() - start_time\r\n",
        "\r\n",
        "        start_time = timeit.default_timer()\r\n",
        "        python([1, 2, 0, 0, 4, 0])\r\n",
        "        arange_time_1 = timeit.default_timer() - start_time\r\n",
        "\r\n",
        "        start_time = timeit.default_timer()\r\n",
        "        nonpy([1, 0, 2, 0, 3, 0, 4])\r\n",
        "        range_time_2 = timeit.default_timer() - start_time\r\n",
        "\r\n",
        "        start_time = timeit.default_timer()\r\n",
        "        nonpy([1, 0, 2, 0, 3, 0, 4])\r\n",
        "        arange_time_2 = timeit.default_timer() - start_time\r\n"
      ],
      "execution_count": 32,
      "outputs": []
    },
    {
      "cell_type": "code",
      "metadata": {
        "colab": {
          "base_uri": "https://localhost:8080/"
        },
        "id": "8zOuV--GJh0F",
        "outputId": "c0dcd111-fdde-4c28-b5a8-e28df3275177"
      },
      "source": [
        "print(f'size [1, 2, 0, 0, 4, 0]: range() время {range_time_1}')\r\n",
        "print(f'size [1, 2, 0, 0, 4, 0]: arange() время {arange_time_1}')\r\n",
        "\r\n",
        "print(f'size [1, 0, 2, 0, 3, 0, 4] : range() время {range_time_2}')\r\n",
        "print(f'size [1, 0, 2, 0, 3, 0, 4] : arange() время {arange_time_2}')"
      ],
      "execution_count": 31,
      "outputs": [
        {
          "output_type": "stream",
          "text": [
            "size [1, 2, 0, 0, 4, 0]: range() время 4.071999683219474e-06\n",
            "size [1, 2, 0, 0, 4, 0]: arange() время 1.5919995348667726e-06\n",
            "size [1, 0, 2, 0, 3, 0, 4] : range() время 4.785200053447625e-05\n",
            "size [1, 0, 2, 0, 3, 0, 4] : arange() время 5.752000106440391e-06\n"
          ],
          "name": "stdout"
        }
      ]
    },
    {
      "cell_type": "markdown",
      "metadata": {
        "id": "P94o-0-uMcPr"
      },
      "source": [
        "вывод: использование np уменьшает время затраченное на обработку данных"
      ]
    }
  ]
}